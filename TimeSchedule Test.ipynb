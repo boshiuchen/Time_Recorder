{
 "cells": [
  {
   "cell_type": "code",
   "execution_count": 2,
   "id": "d2b91230-ac51-4656-9927-40d0fd512648",
   "metadata": {
    "collapsed": true,
    "jupyter": {
     "outputs_hidden": true
    },
    "tags": []
   },
   "outputs": [
    {
     "data": {
      "text/html": [
       "<div>\n",
       "<style scoped>\n",
       "    .dataframe tbody tr th:only-of-type {\n",
       "        vertical-align: middle;\n",
       "    }\n",
       "\n",
       "    .dataframe tbody tr th {\n",
       "        vertical-align: top;\n",
       "    }\n",
       "\n",
       "    .dataframe thead th {\n",
       "        text-align: right;\n",
       "    }\n",
       "</style>\n",
       "<table border=\"1\" class=\"dataframe\">\n",
       "  <thead>\n",
       "    <tr style=\"text-align: right;\">\n",
       "      <th></th>\n",
       "      <th>date</th>\n",
       "      <th>name</th>\n",
       "    </tr>\n",
       "  </thead>\n",
       "  <tbody>\n",
       "    <tr>\n",
       "      <th>0</th>\n",
       "      <td>2022-01-01</td>\n",
       "      <td>元日</td>\n",
       "    </tr>\n",
       "    <tr>\n",
       "      <th>1</th>\n",
       "      <td>2022-01-10</td>\n",
       "      <td>成人の日</td>\n",
       "    </tr>\n",
       "    <tr>\n",
       "      <th>2</th>\n",
       "      <td>2022-02-11</td>\n",
       "      <td>建国記念の日</td>\n",
       "    </tr>\n",
       "    <tr>\n",
       "      <th>3</th>\n",
       "      <td>2022-02-23</td>\n",
       "      <td>天皇誕生日</td>\n",
       "    </tr>\n",
       "    <tr>\n",
       "      <th>4</th>\n",
       "      <td>2022-03-21</td>\n",
       "      <td>春分の日</td>\n",
       "    </tr>\n",
       "    <tr>\n",
       "      <th>5</th>\n",
       "      <td>2022-04-29</td>\n",
       "      <td>昭和の日</td>\n",
       "    </tr>\n",
       "    <tr>\n",
       "      <th>6</th>\n",
       "      <td>2022-05-03</td>\n",
       "      <td>憲法記念日</td>\n",
       "    </tr>\n",
       "    <tr>\n",
       "      <th>7</th>\n",
       "      <td>2022-05-04</td>\n",
       "      <td>みどりの日</td>\n",
       "    </tr>\n",
       "    <tr>\n",
       "      <th>8</th>\n",
       "      <td>2022-05-05</td>\n",
       "      <td>こどもの日</td>\n",
       "    </tr>\n",
       "    <tr>\n",
       "      <th>9</th>\n",
       "      <td>2022-07-18</td>\n",
       "      <td>海の日</td>\n",
       "    </tr>\n",
       "    <tr>\n",
       "      <th>10</th>\n",
       "      <td>2022-08-11</td>\n",
       "      <td>山の日</td>\n",
       "    </tr>\n",
       "    <tr>\n",
       "      <th>11</th>\n",
       "      <td>2022-09-19</td>\n",
       "      <td>敬老の日</td>\n",
       "    </tr>\n",
       "    <tr>\n",
       "      <th>12</th>\n",
       "      <td>2022-09-23</td>\n",
       "      <td>秋分の日</td>\n",
       "    </tr>\n",
       "    <tr>\n",
       "      <th>13</th>\n",
       "      <td>2022-10-10</td>\n",
       "      <td>スポーツの日</td>\n",
       "    </tr>\n",
       "    <tr>\n",
       "      <th>14</th>\n",
       "      <td>2022-11-03</td>\n",
       "      <td>文化の日</td>\n",
       "    </tr>\n",
       "    <tr>\n",
       "      <th>15</th>\n",
       "      <td>2022-11-23</td>\n",
       "      <td>勤労感謝の日</td>\n",
       "    </tr>\n",
       "    <tr>\n",
       "      <th>16</th>\n",
       "      <td>2023-01-01</td>\n",
       "      <td>元日</td>\n",
       "    </tr>\n",
       "    <tr>\n",
       "      <th>17</th>\n",
       "      <td>2023-01-02</td>\n",
       "      <td>休日 元日</td>\n",
       "    </tr>\n",
       "    <tr>\n",
       "      <th>18</th>\n",
       "      <td>2023-01-09</td>\n",
       "      <td>成人の日</td>\n",
       "    </tr>\n",
       "    <tr>\n",
       "      <th>19</th>\n",
       "      <td>2023-02-11</td>\n",
       "      <td>建国記念の日</td>\n",
       "    </tr>\n",
       "    <tr>\n",
       "      <th>20</th>\n",
       "      <td>2023-02-23</td>\n",
       "      <td>天皇誕生日</td>\n",
       "    </tr>\n",
       "    <tr>\n",
       "      <th>21</th>\n",
       "      <td>2023-03-21</td>\n",
       "      <td>春分の日</td>\n",
       "    </tr>\n",
       "    <tr>\n",
       "      <th>22</th>\n",
       "      <td>2023-04-29</td>\n",
       "      <td>昭和の日</td>\n",
       "    </tr>\n",
       "    <tr>\n",
       "      <th>23</th>\n",
       "      <td>2023-05-03</td>\n",
       "      <td>憲法記念日</td>\n",
       "    </tr>\n",
       "    <tr>\n",
       "      <th>24</th>\n",
       "      <td>2023-05-04</td>\n",
       "      <td>みどりの日</td>\n",
       "    </tr>\n",
       "    <tr>\n",
       "      <th>25</th>\n",
       "      <td>2023-05-05</td>\n",
       "      <td>こどもの日</td>\n",
       "    </tr>\n",
       "    <tr>\n",
       "      <th>26</th>\n",
       "      <td>2023-07-17</td>\n",
       "      <td>海の日</td>\n",
       "    </tr>\n",
       "    <tr>\n",
       "      <th>27</th>\n",
       "      <td>2023-08-11</td>\n",
       "      <td>山の日</td>\n",
       "    </tr>\n",
       "    <tr>\n",
       "      <th>28</th>\n",
       "      <td>2023-09-18</td>\n",
       "      <td>敬老の日</td>\n",
       "    </tr>\n",
       "    <tr>\n",
       "      <th>29</th>\n",
       "      <td>2023-09-23</td>\n",
       "      <td>秋分の日</td>\n",
       "    </tr>\n",
       "    <tr>\n",
       "      <th>30</th>\n",
       "      <td>2023-10-09</td>\n",
       "      <td>スポーツの日</td>\n",
       "    </tr>\n",
       "    <tr>\n",
       "      <th>31</th>\n",
       "      <td>2023-11-03</td>\n",
       "      <td>文化の日</td>\n",
       "    </tr>\n",
       "    <tr>\n",
       "      <th>32</th>\n",
       "      <td>2023-11-23</td>\n",
       "      <td>勤労感謝の日</td>\n",
       "    </tr>\n",
       "    <tr>\n",
       "      <th>33</th>\n",
       "      <td>2024-01-01</td>\n",
       "      <td>元日</td>\n",
       "    </tr>\n",
       "    <tr>\n",
       "      <th>34</th>\n",
       "      <td>2024-01-08</td>\n",
       "      <td>成人の日</td>\n",
       "    </tr>\n",
       "    <tr>\n",
       "      <th>35</th>\n",
       "      <td>2024-02-11</td>\n",
       "      <td>建国記念の日</td>\n",
       "    </tr>\n",
       "    <tr>\n",
       "      <th>36</th>\n",
       "      <td>2024-02-12</td>\n",
       "      <td>建国記念の日 振替休日</td>\n",
       "    </tr>\n",
       "    <tr>\n",
       "      <th>37</th>\n",
       "      <td>2024-02-23</td>\n",
       "      <td>天皇誕生日</td>\n",
       "    </tr>\n",
       "    <tr>\n",
       "      <th>38</th>\n",
       "      <td>2024-03-20</td>\n",
       "      <td>春分の日</td>\n",
       "    </tr>\n",
       "    <tr>\n",
       "      <th>39</th>\n",
       "      <td>2024-04-29</td>\n",
       "      <td>昭和の日</td>\n",
       "    </tr>\n",
       "    <tr>\n",
       "      <th>40</th>\n",
       "      <td>2024-05-03</td>\n",
       "      <td>憲法記念日</td>\n",
       "    </tr>\n",
       "    <tr>\n",
       "      <th>41</th>\n",
       "      <td>2024-05-04</td>\n",
       "      <td>みどりの日</td>\n",
       "    </tr>\n",
       "    <tr>\n",
       "      <th>42</th>\n",
       "      <td>2024-05-05</td>\n",
       "      <td>こどもの日</td>\n",
       "    </tr>\n",
       "    <tr>\n",
       "      <th>43</th>\n",
       "      <td>2024-05-06</td>\n",
       "      <td>こどもの日 振替休日</td>\n",
       "    </tr>\n",
       "    <tr>\n",
       "      <th>44</th>\n",
       "      <td>2024-07-15</td>\n",
       "      <td>海の日</td>\n",
       "    </tr>\n",
       "    <tr>\n",
       "      <th>45</th>\n",
       "      <td>2024-08-11</td>\n",
       "      <td>山の日</td>\n",
       "    </tr>\n",
       "    <tr>\n",
       "      <th>46</th>\n",
       "      <td>2024-08-12</td>\n",
       "      <td>休日 山の日</td>\n",
       "    </tr>\n",
       "    <tr>\n",
       "      <th>47</th>\n",
       "      <td>2024-09-16</td>\n",
       "      <td>敬老の日</td>\n",
       "    </tr>\n",
       "    <tr>\n",
       "      <th>48</th>\n",
       "      <td>2024-09-22</td>\n",
       "      <td>秋分の日</td>\n",
       "    </tr>\n",
       "    <tr>\n",
       "      <th>49</th>\n",
       "      <td>2024-09-23</td>\n",
       "      <td>秋分の日 振替休日</td>\n",
       "    </tr>\n",
       "    <tr>\n",
       "      <th>50</th>\n",
       "      <td>2024-10-14</td>\n",
       "      <td>スポーツの日</td>\n",
       "    </tr>\n",
       "    <tr>\n",
       "      <th>51</th>\n",
       "      <td>2024-11-03</td>\n",
       "      <td>文化の日</td>\n",
       "    </tr>\n",
       "    <tr>\n",
       "      <th>52</th>\n",
       "      <td>2024-11-04</td>\n",
       "      <td>文化の日 振替休日</td>\n",
       "    </tr>\n",
       "    <tr>\n",
       "      <th>53</th>\n",
       "      <td>2024-11-23</td>\n",
       "      <td>勤労感謝の日</td>\n",
       "    </tr>\n",
       "  </tbody>\n",
       "</table>\n",
       "</div>"
      ],
      "text/plain": [
       "          date         name\n",
       "0   2022-01-01           元日\n",
       "1   2022-01-10         成人の日\n",
       "2   2022-02-11       建国記念の日\n",
       "3   2022-02-23        天皇誕生日\n",
       "4   2022-03-21         春分の日\n",
       "5   2022-04-29         昭和の日\n",
       "6   2022-05-03        憲法記念日\n",
       "7   2022-05-04        みどりの日\n",
       "8   2022-05-05        こどもの日\n",
       "9   2022-07-18          海の日\n",
       "10  2022-08-11          山の日\n",
       "11  2022-09-19         敬老の日\n",
       "12  2022-09-23         秋分の日\n",
       "13  2022-10-10       スポーツの日\n",
       "14  2022-11-03         文化の日\n",
       "15  2022-11-23       勤労感謝の日\n",
       "16  2023-01-01           元日\n",
       "17  2023-01-02        休日 元日\n",
       "18  2023-01-09         成人の日\n",
       "19  2023-02-11       建国記念の日\n",
       "20  2023-02-23        天皇誕生日\n",
       "21  2023-03-21         春分の日\n",
       "22  2023-04-29         昭和の日\n",
       "23  2023-05-03        憲法記念日\n",
       "24  2023-05-04        みどりの日\n",
       "25  2023-05-05        こどもの日\n",
       "26  2023-07-17          海の日\n",
       "27  2023-08-11          山の日\n",
       "28  2023-09-18         敬老の日\n",
       "29  2023-09-23         秋分の日\n",
       "30  2023-10-09       スポーツの日\n",
       "31  2023-11-03         文化の日\n",
       "32  2023-11-23       勤労感謝の日\n",
       "33  2024-01-01           元日\n",
       "34  2024-01-08         成人の日\n",
       "35  2024-02-11       建国記念の日\n",
       "36  2024-02-12  建国記念の日 振替休日\n",
       "37  2024-02-23        天皇誕生日\n",
       "38  2024-03-20         春分の日\n",
       "39  2024-04-29         昭和の日\n",
       "40  2024-05-03        憲法記念日\n",
       "41  2024-05-04        みどりの日\n",
       "42  2024-05-05        こどもの日\n",
       "43  2024-05-06   こどもの日 振替休日\n",
       "44  2024-07-15          海の日\n",
       "45  2024-08-11          山の日\n",
       "46  2024-08-12       休日 山の日\n",
       "47  2024-09-16         敬老の日\n",
       "48  2024-09-22         秋分の日\n",
       "49  2024-09-23    秋分の日 振替休日\n",
       "50  2024-10-14       スポーツの日\n",
       "51  2024-11-03         文化の日\n",
       "52  2024-11-04    文化の日 振替休日\n",
       "53  2024-11-23       勤労感謝の日"
      ]
     },
     "execution_count": 2,
     "metadata": {},
     "output_type": "execute_result"
    }
   ],
   "source": [
    "import json\n",
    "import requests\n",
    "import pandas as pd\n",
    "\n",
    "def holiday():\n",
    "    url = \"https://holidays-jp.github.io/api/v1/date.json\"\n",
    "    r = requests.get(url)\n",
    "    r = r.json()\n",
    "    df = pd.DataFrame(list(r.items()),columns = [\"date\",\"name\"])\n",
    "    return df\n",
    "\n",
    "holiday()"
   ]
  },
  {
   "cell_type": "markdown",
   "id": "590c4e17-44b4-475c-8e33-379f88685d0e",
   "metadata": {
    "tags": []
   },
   "source": [
    "### Getting other country's holidays\n",
    "#### Set pip install holidays in the cmd \n",
    "\n",
    "Read the docs:<br>\n",
    "https://pypi.org/project/holidays/  <br>\n",
    "https://python-holidays.readthedocs.io/"
   ]
  },
  {
   "cell_type": "code",
   "execution_count": 4,
   "id": "0b7bd5ce-2c83-489b-8bb2-4b2accedc080",
   "metadata": {
    "tags": []
   },
   "outputs": [],
   "source": [
    "import holidays\n",
    "\n",
    "us_holidays = holidays.US()"
   ]
  },
  {
   "cell_type": "code",
   "execution_count": 5,
   "id": "600663d5-b909-4b23-a1d1-c2ea79012403",
   "metadata": {
    "tags": []
   },
   "outputs": [],
   "source": [
    "for date, name in us_holidays.items():\n",
    "    print(date, name)\n",
    "    "
   ]
  },
  {
   "cell_type": "code",
   "execution_count": 6,
   "id": "6b614741-8dc1-42b6-a0ba-dbc2783c5659",
   "metadata": {
    "tags": []
   },
   "outputs": [
    {
     "data": {
      "text/plain": [
       "holidays.country_holidays('US')"
      ]
     },
     "execution_count": 6,
     "metadata": {},
     "output_type": "execute_result"
    }
   ],
   "source": [
    "us_holidays"
   ]
  },
  {
   "cell_type": "code",
   "execution_count": 44,
   "id": "6ccc4a2d-06ac-48eb-85b7-02e97ff74596",
   "metadata": {
    "tags": []
   },
   "outputs": [],
   "source": [
    "from datetime import date\n",
    "import holidays\n",
    "\n",
    "us_holidays = holidays.US()  # this is a dict\n",
    "jp_holidays = holidays.JP()  # this is a dict\n",
    "uk_holidays = holidays.UK()  # this is a dict\n",
    "hk_holidays = holidays.HK()  # this is a dict\n",
    "tw_holidays = holidays.TW()  # this is a dict"
   ]
  },
  {
   "cell_type": "code",
   "execution_count": 47,
   "id": "0606b7a5-b6f5-46e8-92e0-a94b3613fda0",
   "metadata": {
    "tags": []
   },
   "outputs": [
    {
     "data": {
      "text/plain": [
       "True"
      ]
     },
     "execution_count": 47,
     "metadata": {},
     "output_type": "execute_result"
    }
   ],
   "source": [
    "date(2015, 1, 1) in jp_holidays  # False"
   ]
  },
  {
   "cell_type": "code",
   "execution_count": 9,
   "id": "f1911139-224a-4d3e-accd-0b3d527f5b1b",
   "metadata": {
    "tags": []
   },
   "outputs": [],
   "source": [
    "# the below is the same, but takes a string:\n",
    "us_holidays = holidays.country_holidays('US')  # this is a dict"
   ]
  },
  {
   "cell_type": "code",
   "execution_count": 11,
   "id": "88083878-f60b-4219-a581-4799f18debf2",
   "metadata": {
    "tags": []
   },
   "outputs": [
    {
     "name": "stdout",
     "output_type": "stream",
     "text": [
      "{'country': US, 'expand': True, 'language': None, 'market': None, 'observed': True, 'subdiv': None, 'years': set()}\n"
     ]
    }
   ],
   "source": [
    "print(us_holidays)"
   ]
  },
  {
   "cell_type": "code",
   "execution_count": 13,
   "id": "52fee99f-3fad-47f9-a227-9c93af28afe2",
   "metadata": {
    "tags": []
   },
   "outputs": [
    {
     "data": {
      "text/plain": [
       "True"
      ]
     },
     "execution_count": 13,
     "metadata": {},
     "output_type": "execute_result"
    }
   ],
   "source": [
    "date(2015, 1, 1) in us_holidays  # True"
   ]
  },
  {
   "cell_type": "code",
   "execution_count": 14,
   "id": "97b908d6-4a02-4938-841f-74cafa65c282",
   "metadata": {
    "tags": []
   },
   "outputs": [
    {
     "data": {
      "text/plain": [
       "False"
      ]
     },
     "execution_count": 14,
     "metadata": {},
     "output_type": "execute_result"
    }
   ],
   "source": [
    "date(2015, 1, 2) in us_holidays  # False"
   ]
  },
  {
   "cell_type": "code",
   "execution_count": 12,
   "id": "d83a21ca-5571-469a-ac05-bd77275c7529",
   "metadata": {
    "tags": []
   },
   "outputs": [
    {
     "data": {
      "text/plain": [
       "\"New Year's Day\""
      ]
     },
     "execution_count": 12,
     "metadata": {},
     "output_type": "execute_result"
    }
   ],
   "source": [
    "us_holidays.get('2014-01-01')  # \"New Year's Day\""
   ]
  },
  {
   "cell_type": "code",
   "execution_count": 15,
   "id": "19ce5eda-32be-4c14-b1c1-7ca832b7ae4e",
   "metadata": {
    "tags": []
   },
   "outputs": [],
   "source": [
    "JP_holidays = holidays.JP()  # this is a dict"
   ]
  },
  {
   "cell_type": "code",
   "execution_count": 16,
   "id": "4fc7a358-1674-48b4-9eca-6419076f93fd",
   "metadata": {
    "tags": []
   },
   "outputs": [
    {
     "name": "stdout",
     "output_type": "stream",
     "text": [
      "{'country': JP, 'expand': True, 'language': None, 'market': None, 'observed': True, 'subdiv': None, 'years': set()}\n"
     ]
    }
   ],
   "source": [
    "print(JP_holidays)"
   ]
  },
  {
   "cell_type": "code",
   "execution_count": 23,
   "id": "6e865277-a3af-4ad0-808c-f94ca3289eac",
   "metadata": {
    "tags": []
   },
   "outputs": [
    {
     "data": {
      "text/plain": [
       "True"
      ]
     },
     "execution_count": 23,
     "metadata": {},
     "output_type": "execute_result"
    }
   ],
   "source": [
    "date(2023, 1, 9) in JP_holidays  # True"
   ]
  },
  {
   "cell_type": "code",
   "execution_count": 25,
   "id": "ee6d43b2-8874-4eba-9870-2f6e5753b844",
   "metadata": {
    "tags": []
   },
   "outputs": [
    {
     "data": {
      "text/plain": [
       "'建国記念の日'"
      ]
     },
     "execution_count": 25,
     "metadata": {},
     "output_type": "execute_result"
    }
   ],
   "source": [
    "JP_holidays.get('2023-02-11')"
   ]
  },
  {
   "cell_type": "code",
   "execution_count": 37,
   "id": "14513173-8034-4521-8bc4-e552e8d5c6d6",
   "metadata": {
    "tags": []
   },
   "outputs": [
    {
     "name": "stdout",
     "output_type": "stream",
     "text": [
      "元\n",
      "日\n",
      "元\n",
      "日\n"
     ]
    }
   ],
   "source": [
    "for i in range(2):\n",
    "    for r in range(2):\n",
    "        print(JP_holidays[i][r])"
   ]
  },
  {
   "cell_type": "code",
   "execution_count": 38,
   "id": "01e8f859-1405-429c-b82c-202eb1887818",
   "metadata": {
    "tags": []
   },
   "outputs": [
    {
     "data": {
      "text/plain": [
       "dict_keys([datetime.date(2015, 1, 1), datetime.date(2015, 1, 12), datetime.date(2015, 2, 11), datetime.date(2015, 3, 21), datetime.date(2015, 4, 29), datetime.date(2015, 5, 3), datetime.date(2015, 5, 4), datetime.date(2015, 5, 5), datetime.date(2015, 7, 20), datetime.date(2015, 9, 21), datetime.date(2015, 9, 23), datetime.date(2015, 10, 12), datetime.date(2015, 11, 3), datetime.date(2015, 11, 23), datetime.date(2015, 12, 23), datetime.date(2015, 5, 6), datetime.date(2015, 9, 22), datetime.date(2023, 1, 1), datetime.date(2023, 1, 9), datetime.date(2023, 2, 11), datetime.date(2023, 2, 23), datetime.date(2023, 3, 21), datetime.date(2023, 4, 29), datetime.date(2023, 5, 3), datetime.date(2023, 5, 4), datetime.date(2023, 5, 5), datetime.date(2023, 7, 17), datetime.date(2023, 8, 11), datetime.date(2023, 9, 18), datetime.date(2023, 9, 23), datetime.date(2023, 10, 9), datetime.date(2023, 11, 3), datetime.date(2023, 11, 23), datetime.date(2023, 1, 2), datetime.date(1970, 1, 1), datetime.date(1970, 1, 15), datetime.date(1970, 2, 11), datetime.date(1970, 3, 21), datetime.date(1970, 4, 29), datetime.date(1970, 5, 3), datetime.date(1970, 5, 5), datetime.date(1970, 9, 15), datetime.date(1970, 9, 23), datetime.date(1970, 10, 10), datetime.date(1970, 11, 3), datetime.date(1970, 11, 23), datetime.date(1970, 5, 4)])"
      ]
     },
     "execution_count": 38,
     "metadata": {},
     "output_type": "execute_result"
    }
   ],
   "source": [
    "JP_holidays.keys()"
   ]
  },
  {
   "cell_type": "code",
   "execution_count": 41,
   "id": "360babbb-d68f-4b54-9e2a-7fc42f0c3623",
   "metadata": {
    "tags": []
   },
   "outputs": [
    {
     "ename": "AttributeError",
     "evalue": "'JP' object has no attribute 'value'",
     "output_type": "error",
     "traceback": [
      "\u001b[1;31m---------------------------------------------------------------------------\u001b[0m",
      "\u001b[1;31mAttributeError\u001b[0m                            Traceback (most recent call last)",
      "Cell \u001b[1;32mIn[41], line 1\u001b[0m\n\u001b[1;32m----> 1\u001b[0m JP_holidays\u001b[38;5;241m.\u001b[39mvalue()\n",
      "File \u001b[1;32m~\\anaconda3\\Lib\\site-packages\\holidays\\holiday_base.py:404\u001b[0m, in \u001b[0;36mHolidayBase.__getattr__\u001b[1;34m(self, name)\u001b[0m\n\u001b[0;32m    402\u001b[0m \u001b[38;5;66;03m# Raise early if prefix doesn't match to avoid regex checks.\u001b[39;00m\n\u001b[0;32m    403\u001b[0m \u001b[38;5;28;01mif\u001b[39;00m name[: \u001b[38;5;28mlen\u001b[39m(add_holiday_prefix)] \u001b[38;5;241m!=\u001b[39m add_holiday_prefix:\n\u001b[1;32m--> 404\u001b[0m     \u001b[38;5;28;01mraise\u001b[39;00m e\n\u001b[0;32m    406\u001b[0m \u001b[38;5;66;03m# Handle <month> <day> patterns (e.g., _add_holiday_jun_15()).\u001b[39;00m\n\u001b[0;32m    407\u001b[0m month_day \u001b[38;5;241m=\u001b[39m re\u001b[38;5;241m.\u001b[39mmatch(\u001b[38;5;124mr\u001b[39m\u001b[38;5;124m\"\u001b[39m\u001b[38;5;124m_add_holiday_(\u001b[39m\u001b[38;5;124m\\\u001b[39m\u001b[38;5;124mw\u001b[39m\u001b[38;5;132;01m{3}\u001b[39;00m\u001b[38;5;124m)_(\u001b[39m\u001b[38;5;124m\\\u001b[39m\u001b[38;5;124md\u001b[39m\u001b[38;5;124m{\u001b[39m\u001b[38;5;124m1,2})\u001b[39m\u001b[38;5;124m\"\u001b[39m, name)\n",
      "File \u001b[1;32m~\\anaconda3\\Lib\\site-packages\\holidays\\holiday_base.py:398\u001b[0m, in \u001b[0;36mHolidayBase.__getattr__\u001b[1;34m(self, name)\u001b[0m\n\u001b[0;32m    396\u001b[0m \u001b[38;5;28;01mdef\u001b[39;00m \u001b[38;5;21m__getattr__\u001b[39m(\u001b[38;5;28mself\u001b[39m, name):\n\u001b[0;32m    397\u001b[0m     \u001b[38;5;28;01mtry\u001b[39;00m:\n\u001b[1;32m--> 398\u001b[0m         \u001b[38;5;28;01mreturn\u001b[39;00m \u001b[38;5;28mself\u001b[39m\u001b[38;5;241m.\u001b[39m\u001b[38;5;21m__getattribute__\u001b[39m(name)\n\u001b[0;32m    399\u001b[0m     \u001b[38;5;28;01mexcept\u001b[39;00m \u001b[38;5;167;01mAttributeError\u001b[39;00m \u001b[38;5;28;01mas\u001b[39;00m e:\n\u001b[0;32m    400\u001b[0m         \u001b[38;5;66;03m# This part is responsible for _add_holiday_* syntactic sugar support.\u001b[39;00m\n\u001b[0;32m    401\u001b[0m         add_holiday_prefix \u001b[38;5;241m=\u001b[39m \u001b[38;5;124m\"\u001b[39m\u001b[38;5;124m_add_holiday_\u001b[39m\u001b[38;5;124m\"\u001b[39m\n",
      "\u001b[1;31mAttributeError\u001b[0m: 'JP' object has no attribute 'value'"
     ]
    }
   ],
   "source": [
    "for all values in JP_holidays:\n",
    "    print out JP_holidays that have the year 2023"
   ]
  },
  {
   "cell_type": "markdown",
   "id": "6f32c53d-148a-49a3-b132-006ef720c023",
   "metadata": {},
   "source": [
    "All values for Japan, india, Taiwan, US, and UK"
   ]
  },
  {
   "cell_type": "markdown",
   "id": "768f4cdc-0d58-4e3f-98a1-91b25b1c3b46",
   "metadata": {},
   "source": [
    "loop days of month as long as same month "
   ]
  }
 ],
 "metadata": {
  "kernelspec": {
   "display_name": "Python 3 (ipykernel)",
   "language": "python",
   "name": "python3"
  },
  "language_info": {
   "codemirror_mode": {
    "name": "ipython",
    "version": 3
   },
   "file_extension": ".py",
   "mimetype": "text/x-python",
   "name": "python",
   "nbconvert_exporter": "python",
   "pygments_lexer": "ipython3",
   "version": "3.11.3"
  }
 },
 "nbformat": 4,
 "nbformat_minor": 5
}
